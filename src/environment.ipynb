{
 "cells": [
  {
   "cell_type": "markdown",
   "id": "71803d9a",
   "metadata": {},
   "source": [
    "# 1. Building Custom Environment"
   ]
  },
  {
   "cell_type": "markdown",
   "id": "9990c851",
   "metadata": {},
   "source": [
    "This section involves using OpenAI Gym to develop our Deep Reinforcement Learning (DRL) environment. The environment that we define will have the following characteristics:\n",
    "\n",
    "Actions:\n",
    "\n",
    "0 (do not alert)\n",
    "1 (alert)\n",
    "\n",
    "Rewards:\n",
    "\n",
    "+1 if agent correctly alerts to an attack\n",
    "0 if agent does not raise an alert when it is not needed\n",
    "-1 if agent does not raise an alert when there is an attack\n",
    "-1 if agent raises alert when there it is not needed\n",
    "\n",
    "Episode Termination Condition:\n",
    "\n",
    "i. An episode reaches >= 500 steps\n",
    "ii. An attack is issued and no alert is made"
   ]
  },
  {
   "cell_type": "code",
   "execution_count": 50,
   "id": "98dec6d1",
   "metadata": {},
   "outputs": [],
   "source": [
    "import gym \n",
    "import numpy as np\n",
    "import pandas as pd\n",
    "import tensorflow\n",
    "from stable_baselines.common.env_checker import check_env"
   ]
  },
  {
   "cell_type": "code",
   "execution_count": 54,
   "id": "969344e5",
   "metadata": {},
   "outputs": [],
   "source": [
    "class DRL_IDS_Env(gym.Env):\n",
    "    def __init__(self, test_data): # test data created in last module\n",
    "        '''\n",
    "        constructor\n",
    "        '''\n",
    "        super().__init__()\n",
    "        self.test_data = test_data\n",
    "    \n",
    "        # set limit for episode to 500 steps\n",
    "        self.max_steps = 500\n",
    "        self.extra_steps = None # counter for steps going beyond the max_steps limit\n",
    "    \n",
    "        # defining the reward function as discussed above\n",
    "        # [(true_label, action) : reward]\n",
    "        self.rewards = {(0, 1): -1, # (benign, alert) : -1\n",
    "                        (1, 0): -1, # (attack, no alert) : -1\n",
    "                        (1, 1): 1, # (attack, alert) : 1\n",
    "                        (0, 0): 0} # (benign, no alert) : 0\n",
    "        \n",
    "        # defining action/observation space\n",
    "        self.action_space = gym.spaces.Discrete(2)  # either 0 (NORMAL) or 1 (ATTACK)\n",
    "        self.observation_space = gym.spaces.Box(low=0, high=1, shape=(test_data.shape[1] - 1,), dtype=np.float64) # 'box' implies we are dealing with real, valued quantities\n",
    "    \n",
    "    def step(self, action):\n",
    "        '''\n",
    "        agent taking a single step\n",
    "        this method is called after an agent takes a step\n",
    "        '''\n",
    "        \n",
    "        # check if action exists in action space\n",
    "        try:\n",
    "            self.action_space.contains(action)\n",
    "        except AssertionError as msg:\n",
    "            print(msg)\n",
    "        \n",
    "        # determine if the episode is finished\n",
    "        ep_info = {}\n",
    "        finished = False\n",
    "        self.current_step += 1\n",
    "        if self.current_step >= self.max_steps:\n",
    "            ep_info['end_cause'] = 'max_step_limit_reached'\n",
    "            finished = True # we do not want to exceed our max step limit\n",
    "        \n",
    "        if self.label == 1 and action == 0: # this implies there was an attack that we did not alert\n",
    "            ep_info['end_cause'] = 'attack_unalerted'\n",
    "            finished = True\n",
    "            \n",
    "        # calculate reward based on the label of the observation and action taken by agent\n",
    "        reward = self.rewards[(self.label, action)] # maps back to our self.reward dictionary\n",
    "        \n",
    "        # calculate the next state if finished = False\n",
    "        if not finished:\n",
    "            self.i += 1 # hop to next row in dataset\n",
    "            if self.i >= self.test_data.shape[0]: # if this extends beyond the number of rows in our dataset\n",
    "                self.i = 0 # set back to first 'state'\n",
    "            \n",
    "            self.obs = self.test_data.iloc[self.i] # pulling that row, or 'observation' from our dataset\n",
    "            self.label = int(self.obs.pop('label'))\n",
    "            \n",
    "        elif self.extra_steps is None:\n",
    "            self.extra_steps = 0\n",
    "        else:\n",
    "            if self.extra_steps == 0:\n",
    "                gym.logger.warn('Episode max_step length exceeded. You are entering uncharted territory and should reset the episode.')\n",
    "                self.extra_steps += 1\n",
    "                reward = 0\n",
    "                \n",
    "        return self.obs.values, reward, finished, ep_info\n",
    "    \n",
    "    def reset(self):\n",
    "        \n",
    "        extra_steps = None\n",
    "        self.current_step = 0\n",
    "        \n",
    "        self.i = np.random.randint(0, self.test_data.shape[0]) # pick a random starting location from the 0th row to the nth row\n",
    "        \n",
    "        print('reset at state number: ', self.i)\n",
    "        \n",
    "        self.obs = self.test_data.iloc[self.i]\n",
    "        \n",
    "        # record the true label of self.obs\n",
    "        self.label = int(self.obs.pop('label'))\n",
    "        \n",
    "        return self.obs.values"
   ]
  },
  {
   "cell_type": "markdown",
   "id": "73609ea8",
   "metadata": {},
   "source": [
    "Now we will create an instance of DRL_IDS_Env (and validate it using stable_baselines)\n",
    "Note: stable_baselines (https://stable-baselines.readthedocs.io/en/master/) is a set of improved implementations of Reinforcement Learning (RL) algorithms based on OpenAI Baselines."
   ]
  },
  {
   "cell_type": "code",
   "execution_count": 59,
   "id": "3d2cd001",
   "metadata": {},
   "outputs": [
    {
     "name": "stdout",
     "output_type": "stream",
     "text": [
      "reset at state number:  728989\n",
      "reset at state number:  1790620\n"
     ]
    }
   ],
   "source": [
    "train_data = pd.read_csv(\"processed_data/train.csv\")\n",
    "env = DRL_IDS_Env(train_data)\n",
    "check_env(env, warn=True)"
   ]
  },
  {
   "cell_type": "code",
   "execution_count": null,
   "id": "d90452af",
   "metadata": {},
   "outputs": [],
   "source": []
  }
 ],
 "metadata": {
  "kernelspec": {
   "display_name": "Python 3",
   "language": "python",
   "name": "python3"
  },
  "language_info": {
   "codemirror_mode": {
    "name": "ipython",
    "version": 3
   },
   "file_extension": ".py",
   "mimetype": "text/x-python",
   "name": "python",
   "nbconvert_exporter": "python",
   "pygments_lexer": "ipython3",
   "version": "3.8.8"
  }
 },
 "nbformat": 4,
 "nbformat_minor": 5
}
