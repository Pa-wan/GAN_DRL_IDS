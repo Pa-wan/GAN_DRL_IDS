{
 "cells": [
  {
   "cell_type": "markdown",
   "id": "d4d62e40",
   "metadata": {},
   "source": [
    "# Data Preprocessing"
   ]
  },
  {
   "cell_type": "markdown",
   "id": "5562b38b",
   "metadata": {},
   "source": [
    "# 1. Obtaining Dataset(s)"
   ]
  },
  {
   "cell_type": "markdown",
   "id": "02be825b",
   "metadata": {},
   "source": [
    "In this notebook we clean the data and prepare it for training the deep reinforcement learning model.\n",
    "\n",
    "We will be using the CIC-IDS 2017 dataset presented here: http://205.174.165.80/CICDataset/CIC-IDS-2017/Dataset/\n",
    "\n",
    "We will be specifically using the dataset named 'MachineLearningCSV.zip'. You can download it from the above link and skip the next cell, or run the next cell (provided you have wget) to download and extract the dataset to a folder in the project directory."
   ]
  },
  {
   "cell_type": "code",
   "execution_count": null,
   "id": "682183d0",
   "metadata": {},
   "outputs": [
    {
     "name": "stdout",
     "output_type": "stream",
     "text": [
      "--2021-10-13 21:08:42--  http://205.174.165.80/CICDataset/CIC-IDS-2017/Dataset/MachineLearningCSV.zip\n",
      "Connecting to 205.174.165.80:80... connected.\n",
      "HTTP request sent, awaiting response... 200 OK\n",
      "Length: 235102953 (224M) [application/zip]\n",
      "Saving to: ‘MachineLearningCSV.zip.1’\n",
      "\n",
      "MachineLearningCSV.   0%[                    ] 433.84K   115KB/s    eta 37m 40s^C\n",
      "Archive:  MachineLearningCSV.zip\n",
      "replace dataset/MachineLearningCVE/Wednesday-workingHours.pcap_ISCX.csv? [y]es, [n]o, [A]ll, [N]one, [r]ename: "
     ]
    }
   ],
   "source": [
    "! wget http://205.174.165.80/CICDataset/CIC-IDS-2017/Dataset/MachineLearningCSV.zip\n",
    "! unzip MachineLearningCSV.zip -d dataset"
   ]
  },
  {
   "cell_type": "markdown",
   "id": "660849bd",
   "metadata": {},
   "source": [
    "# 2. Data Cleaning"
   ]
  },
  {
   "cell_type": "markdown",
   "id": "26d7384a",
   "metadata": {},
   "source": [
    "2.1. Grouping all seven files into one from the CIC-IDS 2017 dataset"
   ]
  },
  {
   "cell_type": "code",
   "execution_count": null,
   "id": "1f22b1a2",
   "metadata": {},
   "outputs": [],
   "source": [
    "import os\n",
    "import pandas as pd\n",
    "\n",
    "pd.set_option(\"display.max_columns\", None)\n",
    "\n",
    "dataset_folder = \"dataset/MachineLearningCVE/\"\n",
    "\n",
    "files = os.listdir(dataset_folder)\n",
    "\n",
    "df = pd.read_csv(os.path.join(dataset_folder, files[0]))\n",
    "\n",
    "for file in os.listdir(dataset_folder)[1:]:\n",
    "    print(file)\n",
    "    d = pd.read_csv(os.path.join(dataset_folder, file))\n",
    "    df = pd.concat([df, d], axis=0)\n",
    "\n",
    "del d\n",
    "\n",
    "df.reset_index(drop=True, inplace=True)"
   ]
  }
 ],
 "metadata": {
  "kernelspec": {
   "display_name": "Python 3 (ipykernel)",
   "language": "python",
   "name": "python3"
  },
  "language_info": {
   "codemirror_mode": {
    "name": "ipython",
    "version": 3
   },
   "file_extension": ".py",
   "mimetype": "text/x-python",
   "name": "python",
   "nbconvert_exporter": "python",
   "pygments_lexer": "ipython3",
   "version": "3.7.10"
  }
 },
 "nbformat": 4,
 "nbformat_minor": 5
}
